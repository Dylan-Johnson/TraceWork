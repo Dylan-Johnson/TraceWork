{
 "cells": [
  {
   "cell_type": "markdown",
   "id": "9afa3dcd",
   "metadata": {},
   "source": [
    "Sample code to work on some of the .h5 files; this should help you get an idea of what this dataset looks like, as well as what to add in a dataset of your own"
   ]
  },
  {
   "cell_type": "code",
   "execution_count": 7,
   "id": "6719c5ad-c049-4edb-82a2-8c1ab0ff73bd",
   "metadata": {},
   "outputs": [
    {
     "name": "stdout",
     "output_type": "stream",
     "text": [
      "Keys: <KeysViewHDF5 ['metadata', 'traces']>\n",
      "<class 'h5py._hl.dataset.Dataset'>\n"
     ]
    }
   ],
   "source": [
    "import h5py\n",
    "filename = \"C:\\\\Users\\\\dylan\\\\Desktop\\\\ASCAD Dataset\\\\ASCAD_data\\\\ASCAD_databases\\\\ATMega8515_raw_traces.h5\"\n",
    "\n",
    "with h5py.File(filename, \"r\") as f:\n",
    "    # Print all root level object names (aka keys) \n",
    "    # these can be group or dataset names \n",
    "    print(\"Keys: %s\" % f.keys())\n",
    "    # get first object name/key; may or may NOT be a group\n",
    "    a_group_key = list(f.keys())[0]\n",
    "\n",
    "    # get the object type for a_group_key: usually group or dataset\n",
    "    print(type(f[a_group_key])) \n",
    "\n",
    "    # If a_group_key is a group name, \n",
    "    # this gets the object names in the group and returns as a list\n",
    "    data = list(f[a_group_key])\n",
    "\n",
    "    # If a_group_key is a dataset name, \n",
    "    # this gets the dataset values and returns as a list\n",
    "    data = list(f[a_group_key])\n",
    "    # preferred methods to get dataset values:\n",
    "    ds_obj = f[a_group_key]      # returns as a h5py dataset object\n",
    "    ds_arr = f[a_group_key][()]  # returns as a numpy array"
   ]
  },
  {
   "cell_type": "code",
   "execution_count": 4,
   "id": "94d73f1e-f55e-41e1-b3ad-865a1e631e1f",
   "metadata": {},
   "outputs": [
    {
     "data": {
      "text/plain": [
       "([  6,  65, 195,  66,  25, 182, 248,  19, 159, 132,  97,   6,  46, 137,  42,  16], [ 95,  75, 255, 146, 229,  35,  24,  50,  16, 107, 238,  33,  93,  56, 106, 178], [ 77, 251, 224, 242, 114,  33, 254,  16, 167, 141,  74, 220, 142,  73,   4, 105], [  7,  84,  71, 171, 129, 171,  90, 193, 236, 131,  21, 112, 185,  95, 212,  55])"
      ]
     },
     "execution_count": 4,
     "metadata": {},
     "output_type": "execute_result"
    }
   ],
   "source": [
    "data[0]"
   ]
  },
  {
   "cell_type": "code",
   "execution_count": 16,
   "id": "fb462e25-bb0b-4449-8412-98fb6fa413a9",
   "metadata": {},
   "outputs": [
    {
     "data": {
      "text/plain": [
       "array([([  6,  65, 195,  66,  25, 182, 248,  19, 159, 132,  97,   6,  46, 137,  42,  16], [ 95,  75, 255, 146, 229,  35,  24,  50,  16, 107, 238,  33,  93,  56, 106, 178], [ 77, 251, 224, 242, 114,  33, 254,  16, 167, 141,  74, 220, 142,  73,   4, 105], [  7,  84,  71, 171, 129, 171,  90, 193, 236, 131,  21, 112, 185,  95, 212,  55]),\n",
       "       ([ 64,  84, 174, 122,  92, 107, 179,   4, 192,  55,  90, 128, 132,  74, 139,  27], [ 23, 248, 254,  14,  91, 201,   8, 132,  57, 212, 123,  91,  91, 233, 227,  72], [ 77, 251, 224, 242, 114,  33, 254,  16, 167, 141,  74, 220, 142,  73,   4, 105], [192, 166,  45,  89, 164,  22, 209, 144,   3, 192, 239, 152, 122,   7, 185,  67]),\n",
       "       ([202, 207, 195,  33, 224, 159, 105,  75, 199,  25,   4,  96, 135, 145, 190, 130], [161, 211, 134, 179, 116, 181,  12, 169,  17, 225, 155,  57,  72,  40,   3, 164], [ 77, 251, 224, 242, 114,  33, 254,  16, 167, 141,  74, 220, 142,  73,   4, 105], [215, 205, 171,  53,  41, 211,  58, 129,  17, 194, 183, 240, 190,  48, 126, 224]),\n",
       "       ...,\n",
       "       ([ 91, 194,  92,  83, 123,  74, 163, 184, 109, 160, 218,  79, 181, 218,  52, 178], [ 49, 255, 116, 142, 137, 238,   9, 161,  20,  31, 187,  63,  60,  63, 203, 194], [ 77, 251, 224, 242, 114,  33, 254,  16, 167, 141,  74, 220, 142,  73,   4, 105], [250, 169, 123,  40,  90, 109, 145,   2, 241, 110, 236, 230, 221, 155,  86,   8]),\n",
       "       ([ 52, 181, 238, 187,   1, 233, 241, 166, 159, 172, 144,   6,  46,  87,  75, 241], [ 88,  98, 200, 249, 211, 238, 145, 234,  83,   1,  17, 181, 218, 120, 121, 173], [ 77, 251, 224, 242, 114,  33, 254,  16, 167, 141,  74, 220, 142,  73,   4, 105], [242, 200,  68, 120, 121, 105, 169,  83, 149, 109, 197, 255,  96,  19, 189, 246]),\n",
       "       ([198,  35,  99,  39,  93, 210,  27, 112, 207, 229, 156, 184, 170,   8, 103,  86], [208, 175,   0,  65,  50, 109, 203, 141, 237, 200,  30, 143, 100, 136,  79, 203], [ 77, 251, 224, 242, 114,  33, 254,  16, 167, 141,  74, 220, 142,  73,   4, 105], [ 92,  26,  84,  65, 143, 174,  89,  74, 170,   0, 138, 201,  42,   7,  55, 125])],\n",
       "      dtype=[('plaintext', 'u1', (16,)), ('ciphertext', 'u1', (16,)), ('key', 'u1', (16,)), ('masks', 'u1', (16,))])"
      ]
     },
     "execution_count": 16,
     "metadata": {},
     "output_type": "execute_result"
    }
   ],
   "source": [
    "ds_arr"
   ]
  },
  {
   "cell_type": "code",
   "execution_count": 38,
   "id": "af3dadcd-b2d0-480d-b6e0-1948c3df3909",
   "metadata": {},
   "outputs": [
    {
     "name": "stdout",
     "output_type": "stream",
     "text": [
      "[ 52  45  39 ... -18   2  21]\n",
      "[  6  65 195  66  25 182 248  19 159 132  97   6  46 137  42  16]\n",
      "[ 95  75 255 146 229  35  24  50  16 107 238  33  93  56 106 178]\n",
      "[ 77 251 224 242 114  33 254  16 167 141  74 220 142  73   4 105]\n",
      "[  7  84  71 171 129 171  90 193 236 131  21 112 185  95 212  55]\n"
     ]
    }
   ],
   "source": [
    "filename = \"C:\\\\Users\\\\dylan\\\\Desktop\\\\ASCAD Dataset\\\\ASCAD_data\\\\ASCAD_databases\\\\ATMega8515_raw_traces.h5\"\n",
    "\n",
    "with h5py.File(filename, \"r\") as f:\n",
    "    trace_0 = f['traces'][0]\n",
    "    print(trace_0)\n",
    "    print(f['metadata'][0]['plaintext'])\n",
    "    print(f['metadata'][0]['ciphertext'])\n",
    "    print(f['metadata'][0]['key'])\n",
    "    print(f['metadata'][0]['masks'])\n",
    "f.close()"
   ]
  },
  {
   "cell_type": "code",
   "execution_count": 36,
   "id": "a1e2cc65-3ad1-46b8-bf1e-30bfc920428e",
   "metadata": {},
   "outputs": [
    {
     "name": "stdout",
     "output_type": "stream",
     "text": [
      "[ 20  19  13   6  -2 -10 -19 -29 -39 -47 -52 -53 -52 -49 -45 -42 -38 -33\n",
      " -24 -13  -2   7  13  15  15  15  15  14  13  10   4  -4 -12 -20 -27 -33\n",
      " -39 -45 -48 -46 -39 -24 -10   3  10  11   8   4   3   6  11  16  18  17\n",
      "  12   5  -3 -11 -21 -31 -40 -48 -51 -52 -50 -46 -42 -40 -38 -33 -26 -15\n",
      "  -5   4  10  12  12  12  11  11   9   6  -1  -7 -15 -22 -28 -33 -38 -44\n",
      " -47 -46 -40 -29 -16  -4   2   4   1  -2  -3   1   5  10  11   9   5   0\n",
      "  -7 -14 -21 -30 -38 -46 -50 -51 -49 -46 -43 -41 -39 -33 -26 -15  -6   3\n",
      "   7   9   9   7   7   7   6   4  -2  -9 -17 -23 -29 -34 -39 -43 -46 -43\n",
      " -32 -16   5  24  35  38  33  28  22  22  24  27  29  26  20  10   0 -12\n",
      " -24 -37 -49 -59 -63 -63 -58 -51 -44 -39 -34 -29 -21 -11   1  12  20  25\n",
      "  27  26  25  23  19  13   4  -5 -15 -24 -31 -38 -43 -48 -53 -54 -47 -35\n",
      " -19  -2  11  18  18  16  15  16  20  24  27  26  21  14   5  -5 -15 -27\n",
      " -37 -48 -56 -61 -60 -56 -52 -48 -43 -38 -31 -21 -10   0   8  13  15  16\n",
      "  17  17  17  14   9   0  -9 -18 -25 -32 -38 -44 -48 -48 -43 -33 -19  -6\n",
      "   2   6   4   2   1   3   8  14  17  17  13   7   0  -8 -16 -25 -35 -43\n",
      " -49 -51 -49 -47 -45 -43 -40 -36 -29 -20 -10   0   6   8   9   8   9   9\n",
      "   9   7   1  -5 -12 -19 -26 -31 -37 -42 -45 -44 -36 -21  -3  13  23  27\n",
      "  25  19  15  14  16  20  23  22  17  10   0 -11 -21 -33 -43 -52 -58 -58\n",
      " -55 -50 -44 -40 -36 -31 -25 -14  -3   7  15  19  20  20  19  18  15  11\n",
      "   4  -4 -14 -23 -29 -35 -40 -45 -49 -50 -47 -38 -25 -13  -4   0  -1  -2\n",
      "  -2   1   5  11  13  13   9   4  -2  -9 -16 -25 -33 -42 -48 -51 -51 -48\n",
      " -46 -44 -42 -37 -30 -20  -9   0   7   9   8   8   8   9   9   7   3  -3\n",
      " -11 -18 -25 -31 -37 -42 -46 -46 -38 -26  -9   7  19  24  20  15  11  11\n",
      "  14  18  21  21  17  10   0  -9 -20 -31 -41 -51 -56 -57 -55 -50 -45 -41\n",
      " -37 -34 -26 -17  -6   4  12  17  19  19  17  16  14  10   4  -4 -13 -21\n",
      " -28 -34 -39 -44 -49 -51 -46 -38 -25 -12  -2   2   2   0  -1   1   5  11\n",
      "  14  14  11   5  -2  -9 -16 -25 -35 -42 -50 -52 -52 -50 -47 -45 -42 -38\n",
      " -30 -20  -9   1   8  11  11  10  10  11  11   9   4  -2 -10 -17 -25 -31\n",
      " -36 -42 -46 -47 -41 -30 -14   3  16  23  23  19  15  14  16  19  22  23\n",
      "  19  13   4  -6 -16 -28 -39 -49 -56 -58 -57 -53 -49 -43 -40 -35 -28 -19\n",
      "  -9   2  10  15  17  17  18  18  15  12   5  -2 -11 -20 -28 -34 -39 -44\n",
      " -49 -50 -46 -37 -23 -11   0   5   5   3   2   3   7  12  16  16  13   7\n",
      "  -1  -8 -16 -26 -35 -44 -51 -54 -53 -51 -48 -46 -43 -39 -33 -22 -11   0\n",
      "   7  11  12  11  11  10  10   9   5  -2 -10 -18 -24 -31 -37 -43 -48 -49\n",
      " -45 -33 -17   1  13  20  19  14  10  10  12  17  21  21  18  12   3  -6\n",
      " -17 -27 -38 -48 -56 -59 -57 -53 -48 -44 -40 -37 -31 -22 -11   0   9  15\n",
      "  17  17  16  15  14  11   6  -2 -11 -19 -27 -33 -38 -44 -48 -50 -46 -35\n",
      " -19   0  14  22  22  18  15  14  16  21  25  25  21  15   5  -4 -15 -25\n",
      " -37 -48 -56 -60 -59 -55 -50 -45 -41 -37 -32 -22 -11   0   9  15] 700\n"
     ]
    }
   ],
   "source": [
    "filename = \"C:\\\\Users\\\\dylan\\\\Desktop\\\\ASCAD Dataset\\\\ASCAD_data\\\\ASCAD_databases\\\\ASCAD.h5\"\n",
    "\n",
    "with h5py.File(filename, \"r\") as f:\n",
    "    trace_0 = f['Profiling_traces/traces'][0]\n",
    "    print(trace_0, len(trace_0))\n",
    "f.close()"
   ]
  },
  {
   "cell_type": "code",
   "execution_count": null,
   "id": "1749cc17-32c6-4f49-97f5-bf57b3762d2d",
   "metadata": {},
   "outputs": [],
   "source": []
  }
 ],
 "metadata": {
  "kernelspec": {
   "display_name": "Python 3 (ipykernel)",
   "language": "python",
   "name": "python3"
  },
  "language_info": {
   "codemirror_mode": {
    "name": "ipython",
    "version": 3
   },
   "file_extension": ".py",
   "mimetype": "text/x-python",
   "name": "python",
   "nbconvert_exporter": "python",
   "pygments_lexer": "ipython3",
   "version": "3.9.18"
  }
 },
 "nbformat": 4,
 "nbformat_minor": 5
}
